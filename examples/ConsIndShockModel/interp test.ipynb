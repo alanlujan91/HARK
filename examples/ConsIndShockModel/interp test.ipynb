{
 "cells": [
  {
   "cell_type": "code",
   "execution_count": 53,
   "outputs": [],
   "source": [
    "import numpy as np\n",
    "from interpolation.splines import UCGrid, CGrid, nodes\n",
    "from interpolation.splines import eval_linear\n"
   ],
   "metadata": {
    "collapsed": false,
    "pycharm": {
     "name": "#%%\n"
    }
   }
  },
  {
   "cell_type": "code",
   "execution_count": 54,
   "outputs": [],
   "source": [
    "from numba import njit\n",
    "\n",
    "@njit\n",
    "def interpFast(x_list, y_list, intercept_limit, slope_limit, x0):\n",
    "\n",
    "    # Make a decay extrapolation\n",
    "    slope_at_top = (y_list[-1] - y_list[-2]) / (x_list[-1] - x_list[-2])\n",
    "    level_diff = intercept_limit + slope_limit * x_list[-1] - y_list[-1]\n",
    "    slope_diff = slope_limit - slope_at_top\n",
    "\n",
    "    decay_extrap_A = level_diff\n",
    "    decay_extrap_B = -slope_diff / level_diff\n",
    "\n",
    "    i = np.maximum(np.searchsorted(x_list[:-1], x0), 1)\n",
    "    alpha = (x0 - x_list[i - 1]) / (x_list[i] - x_list[i - 1])\n",
    "\n",
    "    y0 = (1.0 - alpha) * y_list[i - 1] + alpha * y_list[i]\n",
    "\n",
    "    below_lower_bound = x0 < x_list[0]\n",
    "\n",
    "    y0[below_lower_bound] = np.nan\n",
    "\n",
    "    above_upper_bound = x0 > x_list[-1]\n",
    "    x_temp = x0[above_upper_bound] - x_list[-1]\n",
    "\n",
    "    y0[above_upper_bound] = (\n",
    "        intercept_limit\n",
    "        + slope_limit * x0[above_upper_bound]\n",
    "        - decay_extrap_A * np.exp(-decay_extrap_B * x_temp)\n",
    "    )\n",
    "\n",
    "    return y0"
   ],
   "metadata": {
    "collapsed": false,
    "pycharm": {
     "name": "#%%\n"
    }
   }
  },
  {
   "cell_type": "code",
   "execution_count": 55,
   "outputs": [],
   "source": [
    "x_list = np.array([0.0,1.0])\n",
    "y_list = np.array([0.0,1.0])\n",
    "intercept = 0\n",
    "slope = -5"
   ],
   "metadata": {
    "collapsed": false,
    "pycharm": {
     "name": "#%%\n"
    }
   }
  },
  {
   "cell_type": "code",
   "execution_count": 56,
   "outputs": [],
   "source": [
    "x0 = np.linspace(0,10)"
   ],
   "metadata": {
    "collapsed": false,
    "pycharm": {
     "name": "#%%\n"
    }
   }
  },
  {
   "cell_type": "code",
   "execution_count": 57,
   "outputs": [],
   "source": [
    "y0 = interpFast(x_list, y_list, intercept, slope, x0)"
   ],
   "metadata": {
    "collapsed": false,
    "pycharm": {
     "name": "#%%\n"
    }
   }
  },
  {
   "cell_type": "code",
   "execution_count": 58,
   "outputs": [],
   "source": [
    "import matplotlib.pyplot as plt"
   ],
   "metadata": {
    "collapsed": false,
    "pycharm": {
     "name": "#%%\n"
    }
   }
  },
  {
   "cell_type": "code",
   "execution_count": 59,
   "outputs": [
    {
     "data": {
      "text/plain": "[<matplotlib.lines.Line2D at 0x2c7ac1ca8b0>]"
     },
     "execution_count": 59,
     "metadata": {},
     "output_type": "execute_result"
    },
    {
     "data": {
      "text/plain": "<Figure size 432x288 with 1 Axes>",
      "image/png": "[encoded data removed]"
     },
     "metadata": {
      "needs_background": "light"
     },
     "output_type": "display_data"
    }
   ],
   "source": [
    "plt.plot(x0,y0)"
   ],
   "metadata": {
    "collapsed": false,
    "pycharm": {
     "name": "#%%\n"
    }
   }
  },
  {
   "cell_type": "code",
   "execution_count": 60,
   "outputs": [],
   "source": [
    "from HARK.interpolation import LinearInterp\n",
    "\n",
    "interpolator = LinearInterp(x_list,y_list, intercept,slope)"
   ],
   "metadata": {
    "collapsed": false,
    "pycharm": {
     "name": "#%%\n"
    }
   }
  },
  {
   "cell_type": "code",
   "execution_count": 61,
   "outputs": [],
   "source": [
    "y1 = interpolator(x0)"
   ],
   "metadata": {
    "collapsed": false,
    "pycharm": {
     "name": "#%%\n"
    }
   }
  },
  {
   "cell_type": "code",
   "execution_count": 62,
   "outputs": [
    {
     "data": {
      "text/plain": "[<matplotlib.lines.Line2D at 0x2c7ac25eb80>]"
     },
     "execution_count": 62,
     "metadata": {},
     "output_type": "execute_result"
    },
    {
     "data": {
      "text/plain": "<Figure size 432x288 with 1 Axes>",
      "image/png": "[encoded data removed]"
     },
     "metadata": {
      "needs_background": "light"
     },
     "output_type": "display_data"
    }
   ],
   "source": [
    "plt.plot(x0,y1)"
   ],
   "metadata": {
    "collapsed": false,
    "pycharm": {
     "name": "#%%\n"
    }
   }
  },
  {
   "cell_type": "code",
   "execution_count": 62,
   "outputs": [],
   "source": [],
   "metadata": {
    "collapsed": false,
    "pycharm": {
     "name": "#%%\n"
    }
   }
  }
 ],
 "metadata": {
  "kernelspec": {
   "display_name": "Python 3",
   "language": "python",
   "name": "python3"
  },
  "language_info": {
   "codemirror_mode": {
    "name": "ipython",
    "version": 2
   },
   "file_extension": ".py",
   "mimetype": "text/x-python",
   "name": "python",
   "nbconvert_exporter": "python",
   "pygments_lexer": "ipython2",
   "version": "2.7.6"
  }
 },
 "nbformat": 4,
 "nbformat_minor": 0
}