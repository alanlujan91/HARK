{
 "cells": [
  {
   "cell_type": "markdown",
   "metadata": {},
   "source": [
    "# Demonstrations and Timings of HARK.expected\n"
   ]
  },
  {
   "cell_type": "markdown",
   "metadata": {},
   "source": [
    "First, we import the relevant libraries.\n"
   ]
  },
  {
   "cell_type": "code",
   "execution_count": 1,
   "metadata": {},
   "outputs": [],
   "source": [
    "from time import time\n",
    "\n",
    "import numpy as np\n",
    "from HARK.distribution import (\n",
    "    MeanOneLogNormal,\n",
    "    Normal,\n",
    "    calc_expectation,\n",
    "    combine_indep_dstns,\n",
    ")"
   ]
  },
  {
   "cell_type": "markdown",
   "metadata": {},
   "source": [
    "Next, we define discrete distributions as approximations of continuous distributions.\n"
   ]
  },
  {
   "cell_type": "code",
   "execution_count": 2,
   "metadata": {},
   "outputs": [],
   "source": [
    "dd_0_1_20 = Normal().approx(20)\n",
    "dd_1_1_40 = Normal(mu=1).approx(40)\n",
    "dd_10_10_100 = Normal(mu=10, sigma=10).approx(100)"
   ]
  },
  {
   "cell_type": "markdown",
   "metadata": {},
   "source": [
    "### The **new** `DiscreteDistribution.expected()` method\n"
   ]
  },
  {
   "cell_type": "markdown",
   "metadata": {},
   "source": [
    "There are two ways to get the expectation of a distribution. The first is to use the **new** `expected()` method of the distribution shown below.\n"
   ]
  },
  {
   "cell_type": "code",
   "execution_count": 3,
   "metadata": {},
   "outputs": [
    {
     "name": "stdout",
     "output_type": "stream",
     "text": [
      "3.44 µs ± 27.6 ns per loop (mean ± std. dev. of 7 runs, 100,000 loops each)\n"
     ]
    }
   ],
   "source": [
    "%%timeit\n",
    "ce1 = dd_0_1_20.expected()\n",
    "ce2 = dd_1_1_40.expected()\n",
    "ce3 = dd_10_10_100.expected()"
   ]
  },
  {
   "cell_type": "markdown",
   "metadata": {},
   "source": [
    "The second is to use `HARK.distribution.calc_expectation()`. Comparing the timings, the first method is significantly faster.\n"
   ]
  },
  {
   "cell_type": "code",
   "execution_count": 4,
   "metadata": {},
   "outputs": [
    {
     "name": "stdout",
     "output_type": "stream",
     "text": [
      "128 µs ± 264 ns per loop (mean ± std. dev. of 7 runs, 10,000 loops each)\n"
     ]
    }
   ],
   "source": [
    "%%timeit\n",
    "ce1 = calc_expectation(dd_0_1_20)\n",
    "ce2 = calc_expectation(dd_1_1_40)\n",
    "ce3 = calc_expectation(dd_10_10_100)"
   ]
  },
  {
   "cell_type": "markdown",
   "metadata": {},
   "source": [
    "### The Expected Value of a function of a random variable\n"
   ]
  },
  {
   "cell_type": "markdown",
   "metadata": {},
   "source": [
    "Both of these methods allow us to calculate the expected value of a function of the distribution. Using the first method, which is the distribution's own method, we only need to provide the function.\n"
   ]
  },
  {
   "cell_type": "code",
   "execution_count": 5,
   "metadata": {},
   "outputs": [
    {
     "name": "stdout",
     "output_type": "stream",
     "text": [
      "6.83 µs ± 14.1 ns per loop (mean ± std. dev. of 7 runs, 100,000 loops each)\n"
     ]
    }
   ],
   "source": [
    "%%timeit\n",
    "ce4 = dd_0_1_20.expected(lambda x: 2**x)\n",
    "ce5 = dd_1_1_40.expected(lambda x: 2 * x)"
   ]
  },
  {
   "cell_type": "markdown",
   "metadata": {},
   "source": [
    "Using `HARK.distribution.calc_expectation()`, we first provide the distribution and then the function.\n"
   ]
  },
  {
   "cell_type": "code",
   "execution_count": 6,
   "metadata": {},
   "outputs": [
    {
     "name": "stdout",
     "output_type": "stream",
     "text": [
      "147 µs ± 301 ns per loop (mean ± std. dev. of 7 runs, 10,000 loops each)\n"
     ]
    }
   ],
   "source": [
    "%%timeit\n",
    "ce4 = calc_expectation(dd_0_1_20, lambda x: 2**x)\n",
    "ce5 = calc_expectation(dd_1_1_40, lambda x: 2 * x)"
   ]
  },
  {
   "cell_type": "markdown",
   "metadata": {},
   "source": [
    "#### The expected value of a function with additional arguments\n"
   ]
  },
  {
   "cell_type": "markdown",
   "metadata": {},
   "source": [
    "For both methods, we can also provide a number of arguments to the function `args`, which are passed to the function and gets called as `func(dstn,*args)`.\n"
   ]
  },
  {
   "cell_type": "code",
   "execution_count": 7,
   "metadata": {},
   "outputs": [
    {
     "name": "stdout",
     "output_type": "stream",
     "text": [
      "18.6 µs ± 18.2 ns per loop (mean ± std. dev. of 7 runs, 100,000 loops each)\n"
     ]
    }
   ],
   "source": [
    "%%timeit\n",
    "ce6 = dd_10_10_100.expected(lambda x, y: 2 * x + y, 20)\n",
    "ce7 = dd_0_1_20.expected(lambda x, y: x + y, np.hstack([0, 1, 2, 3, 4, 5]))"
   ]
  },
  {
   "cell_type": "code",
   "execution_count": 8,
   "metadata": {},
   "outputs": [
    {
     "name": "stdout",
     "output_type": "stream",
     "text": [
      "392 µs ± 761 ns per loop (mean ± std. dev. of 7 runs, 1,000 loops each)\n"
     ]
    }
   ],
   "source": [
    "%%timeit\n",
    "ce6 = calc_expectation(dd_10_10_100, lambda x, y: 2 * x + y, 20)\n",
    "ce7 = calc_expectation(dd_0_1_20, lambda x, y: x + y, np.hstack([0, 1, 2, 3, 4, 5]))"
   ]
  },
  {
   "cell_type": "markdown",
   "metadata": {},
   "source": [
    "### The expected value of a function in `HARK`\n"
   ]
  },
  {
   "cell_type": "markdown",
   "metadata": {},
   "source": [
    "For a more practical demonstration of these methods as they would be used in `HARK`, we can create a distcrete distribution of shocks to income `IncShkDstn`. Given an array of liquid assets `aGrid` and an interest rate `R`, we can calculate the expected value of next period's cash on hand as the function `m_next = R * aGrid / perm_shk + tran_shk`. Below we see how this is done. Notice that the arguments to the function can be multidimensional.\n"
   ]
  },
  {
   "cell_type": "code",
   "execution_count": 9,
   "metadata": {},
   "outputs": [],
   "source": [
    "PermShkDstn = MeanOneLogNormal().approx(200)\n",
    "TranShkDstn = MeanOneLogNormal().approx(200)\n",
    "IncShkDstn = combine_indep_dstns(PermShkDstn, TranShkDstn)\n",
    "aGrid = np.linspace(0, 20, 100)  # aNrm grid\n",
    "R = 1.05  # interest rate\n",
    "\n",
    "\n",
    "def m_next(x, aGrid, R):\n",
    "    return R * aGrid / x[0] + x[1]"
   ]
  },
  {
   "cell_type": "code",
   "execution_count": 10,
   "metadata": {},
   "outputs": [
    {
     "name": "stdout",
     "output_type": "stream",
     "text": [
      "31.5 ms ± 1.94 ms per loop (mean ± std. dev. of 7 runs, 10 loops each)\n"
     ]
    }
   ],
   "source": [
    "%%timeit\n",
    "ce8 = IncShkDstn.expected(m_next, aGrid, R)\n",
    "ce9 = IncShkDstn.expected(m_next, aGrid.reshape((10, 10)), R)"
   ]
  },
  {
   "cell_type": "code",
   "execution_count": 11,
   "metadata": {},
   "outputs": [
    {
     "name": "stdout",
     "output_type": "stream",
     "text": [
      "458 ms ± 13.1 ms per loop (mean ± std. dev. of 7 runs, 1 loop each)\n"
     ]
    }
   ],
   "source": [
    "%%timeit\n",
    "ce8 = calc_expectation(IncShkDstn, m_next, aGrid, R)\n",
    "ce9 = calc_expectation(IncShkDstn, m_next, aGrid.reshape((10, 10)), R)"
   ]
  },
  {
   "cell_type": "markdown",
   "metadata": {},
   "source": [
    "### Time Comparison of the two methods\n"
   ]
  },
  {
   "cell_type": "markdown",
   "metadata": {},
   "source": [
    "As a final comparision of these two methods, we can see how the time difference is affected by the number of points in the distribution.\n"
   ]
  },
  {
   "cell_type": "code",
   "execution_count": 12,
   "metadata": {},
   "outputs": [],
   "source": [
    "size = np.arange(1, 11) * 100\n",
    "\n",
    "t_self = []\n",
    "t_dist = []\n",
    "\n",
    "for n in size:\n",
    "    PermShkDstn = MeanOneLogNormal().approx(n)\n",
    "    TranShkDstn = MeanOneLogNormal().approx(n)\n",
    "    IncShkDstn = combine_indep_dstns(PermShkDstn, TranShkDstn)\n",
    "\n",
    "    m_next = lambda X, a, r: r * a / X[0] + X[1]\n",
    "    a_grid = np.linspace(0, 20, 100).reshape((10, 10))\n",
    "    R = 1.05\n",
    "\n",
    "    start_self = time()\n",
    "    ce_self = IncShkDstn.expected(m_next, a_grid, R)\n",
    "    time_self = time() - start_self\n",
    "\n",
    "    start_dist = time()\n",
    "    ce_dist = calc_expectation(IncShkDstn, m_next, a_grid, R)\n",
    "    time_dist = time() - start_dist\n",
    "\n",
    "    t_self.append(time_self)\n",
    "    t_dist.append(time_dist)"
   ]
  },
  {
   "cell_type": "code",
   "execution_count": 13,
   "metadata": {},
   "outputs": [
    {
     "data": {
      "image/png": "[encoded data removed]",
      "text/plain": [
       "<Figure size 432x288 with 1 Axes>"
      ]
     },
     "metadata": {
      "needs_background": "light"
     },
     "output_type": "display_data"
    }
   ],
   "source": [
    "import matplotlib.pyplot as plt\n",
    "\n",
    "plt.plot(size, t_self, label=\"dist.ev(f)\")\n",
    "plt.plot(size, t_dist, label=\"ce(dist, f)\")\n",
    "plt.title(\"Time to calculate expectation of a function of shocks to income.\")\n",
    "plt.ylabel(\"time (s)\")\n",
    "plt.xlabel(\"size of grid: $x^2$\")\n",
    "plt.legend()\n",
    "plt.show()"
   ]
  },
  {
   "cell_type": "markdown",
   "metadata": {},
   "source": [
    "### Alias for the new `expected()` method\n"
   ]
  },
  {
   "cell_type": "markdown",
   "metadata": {},
   "source": [
    "There is an alias for the new `DiscreteDistribution.expected()` method to make it clearer as a mathematical expression. The way to access these is as follows:\n",
    "\n",
    "`expected(func, dstn, *args)`\n"
   ]
  },
  {
   "cell_type": "code",
   "execution_count": 14,
   "metadata": {},
   "outputs": [],
   "source": [
    "from HARK.distribution import expected"
   ]
  },
  {
   "cell_type": "code",
   "execution_count": 15,
   "metadata": {},
   "outputs": [
    {
     "data": {
      "text/plain": [
       "array([ 1.        ,  1.57585002,  2.15170003,  2.72755005,  3.30340006,\n",
       "        3.87925008,  4.4551001 ,  5.03095011,  5.60680013,  6.18265014,\n",
       "        6.75850016,  7.33435017,  7.91020019,  8.48605021,  9.06190022,\n",
       "        9.63775024, 10.21360025, 10.78945027, 11.36530029, 11.9411503 ,\n",
       "       12.51700032, 13.09285033, 13.66870035, 14.24455036, 14.82040038,\n",
       "       15.3962504 , 15.97210041, 16.54795043, 17.12380044, 17.69965046,\n",
       "       18.27550048, 18.85135049, 19.42720051, 20.00305052, 20.57890054,\n",
       "       21.15475056, 21.73060057, 22.30645059, 22.8823006 , 23.45815062,\n",
       "       24.03400063, 24.60985065, 25.18570067, 25.76155068, 26.3374007 ,\n",
       "       26.91325071, 27.48910073, 28.06495075, 28.64080076, 29.21665078,\n",
       "       29.79250079, 30.36835081, 30.94420082, 31.52005084, 32.09590086,\n",
       "       32.67175087, 33.24760089, 33.8234509 , 34.39930092, 34.97515094,\n",
       "       35.55100095, 36.12685097, 36.70270098, 37.278551  , 37.85440102,\n",
       "       38.43025103, 39.00610105, 39.58195106, 40.15780108, 40.73365109,\n",
       "       41.30950111, 41.88535113, 42.46120114, 43.03705116, 43.61290117,\n",
       "       44.18875119, 44.76460121, 45.34045122, 45.91630124, 46.49215125,\n",
       "       47.06800127, 47.64385128, 48.2197013 , 48.79555132, 49.37140133,\n",
       "       49.94725135, 50.52310136, 51.09895138, 51.6748014 , 52.25065141,\n",
       "       52.82650143, 53.40235144, 53.97820146, 54.55405148, 55.12990149,\n",
       "       55.70575151, 56.28160152, 56.85745154, 57.43330155, 58.00915157])"
      ]
     },
     "execution_count": 15,
     "metadata": {},
     "output_type": "execute_result"
    }
   ],
   "source": [
    "expected(func=m_next, dist=IncShkDstn, args=(aGrid, R))"
   ]
  },
  {
   "cell_type": "code",
   "execution_count": 16,
   "metadata": {},
   "outputs": [
    {
     "data": {
      "text/plain": [
       "3.7147215033527035"
      ]
     },
     "execution_count": 16,
     "metadata": {},
     "output_type": "execute_result"
    }
   ],
   "source": [
    "expected(func=lambda x: 1 / x[0] + x[1], dist=IncShkDstn)"
   ]
  },
  {
   "cell_type": "code",
   "execution_count": null,
   "metadata": {},
   "outputs": [],
   "source": []
  }
 ],
 "metadata": {
  "jupytext": {
   "formats": "ipynb,py:percent"
  },
  "kernelspec": {
   "display_name": "Python 3 (ipykernel)",
   "language": "python",
   "name": "python3"
  },
  "language_info": {
   "codemirror_mode": {
    "name": "ipython",
    "version": 3
   },
   "file_extension": ".py",
   "mimetype": "text/x-python",
   "name": "python",
   "nbconvert_exporter": "python",
   "pygments_lexer": "ipython3",
   "version": "3.9.13"
  },
  "vscode": {
   "interpreter": {
    "hash": "ab336f3885e19cdf99951e4b73ee65835b5095c97279903ad09e0692d3a202c7"
   }
  }
 },
 "nbformat": 4,
 "nbformat_minor": 4
}
